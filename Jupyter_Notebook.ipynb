{
 "cells": [
  {
   "cell_type": "markdown",
   "metadata": {},
   "source": [
    "<center>\n",
    "    <img src=\"https://cf-courses-data.s3.us.cloud-object-storage.appdomain.cloud/IBMDeveloperSkillsNetwork-DS0105EN-SkillsNetwork/labs/Module2/images/SN_web_lightmode.png\" width=\"300\" alt=\"cognitiveclass.ai logo\">\n",
    "</center>\n"
   ]
  },
  {
   "cell_type": "markdown",
   "metadata": {},
   "source": [
    "#### Add your code below following the instructions given in the course\n"
   ]
  },
  {
   "cell_type": "markdown",
   "metadata": {
    "tags": []
   },
   "source": [
    "# Data Science Tools and Ecosystem"
   ]
  },
  {
   "cell_type": "markdown",
   "metadata": {
    "tags": []
   },
   "source": [
    "This notebook contains a series of exercises designed to demonstrate proficiency in various data science skills, from markdown documentation to Python programming and usage of data science libraries.\n"
   ]
  },
  {
   "cell_type": "markdown",
   "metadata": {
    "tags": []
   },
   "source": [
    "Some popular data science languages include:\n",
    "\n",
    "1. Python\n",
    "2. R\n",
    "3. SQL\n",
    "4. Java\n",
    "5. Julia\n",
    "6. MATLAB\n",
    "7. SAS\n"
   ]
  },
  {
   "cell_type": "markdown",
   "metadata": {},
   "source": [
    "Here are a few important data science libraries in Python:\n",
    "\n",
    "1. Pandas - for data manipulation and analysis\n",
    "2. NumPy - for numerical computations on arrays\n",
    "3. Matplotlib - for data visualization\n",
    "4. Scikit-learn - for machine learning\n",
    "5. TensorFlow - for deep learning\n"
   ]
  },
  {
   "cell_type": "markdown",
   "metadata": {},
   "source": [
    "| Tool | Use |\n",
    "| --- | --- |\n",
    "| Python | General purpose programming |\n",
    "| Jupyter Notebook | Interactive development environment |\n",
    "| Pandas | Data manipulation and analysis |\n",
    "| NumPy | Numerical computations |\n",
    "| Matplotlib | Data visualization |\n",
    "| Scikit-Learn | Machine Learning |\n",
    "| TensorFlow | Deep Learning |\n"
   ]
  },
  {
   "cell_type": "markdown",
   "metadata": {},
   "source": [
    "Python can perform various arithmetic operations. Here are a few examples:\n",
    "\n",
    "1. Addition: `5 + 3`\n",
    "2. Subtraction: `5 - 3`\n",
    "3. Multiplication: `5 * 3`\n",
    "4. Division: `5 / 3`\n"
   ]
  },
  {
   "cell_type": "code",
   "execution_count": 6,
   "metadata": {
    "tags": []
   },
   "outputs": [
    {
     "name": "stdout",
     "output_type": "stream",
     "text": [
      "17\n"
     ]
    }
   ],
   "source": [
    "result = 5 * 3 + 2\n",
    "print(result)\n"
   ]
  },
  {
   "cell_type": "code",
   "execution_count": 5,
   "metadata": {
    "tags": []
   },
   "outputs": [
    {
     "name": "stdout",
     "output_type": "stream",
     "text": [
      "2.0\n"
     ]
    }
   ],
   "source": [
    "minutes = 120\n",
    "hours = minutes / 60\n",
    "print(hours)\n"
   ]
  },
  {
   "cell_type": "markdown",
   "metadata": {},
   "source": [
    "The objectives of this notebook are:\n",
    "\n",
    "1. Demonstrate proficiency in markdown.\n",
    "2. Show knowledge of Python and its libraries.\n",
    "3. Highlight ability to perform simple computations in Python.\n",
    "4. Show familiarity with data science tools.\n",
    "5. Show ability to share work through GitHub.\n"
   ]
  },
  {
   "cell_type": "markdown",
   "metadata": {},
   "source": [
    "Author: Shramish Kafle"
   ]
  },
  {
   "cell_type": "code",
   "execution_count": null,
   "metadata": {},
   "outputs": [],
   "source": []
  }
 ],
 "metadata": {
  "kernelspec": {
   "display_name": "Python",
   "language": "python",
   "name": "conda-env-python-py"
  },
  "language_info": {
   "codemirror_mode": {
    "name": "ipython",
    "version": 3
   },
   "file_extension": ".py",
   "mimetype": "text/x-python",
   "name": "python",
   "nbconvert_exporter": "python",
   "pygments_lexer": "ipython3",
   "version": "3.7.12"
  }
 },
 "nbformat": 4,
 "nbformat_minor": 4
}
